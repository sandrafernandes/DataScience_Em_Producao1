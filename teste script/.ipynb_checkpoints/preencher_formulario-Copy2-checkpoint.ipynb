{
 "cells": [
  {
   "cell_type": "code",
   "execution_count": 1,
   "metadata": {
    "ExecuteTime": {
     "end_time": "2024-04-04T01:30:25.173400Z",
     "start_time": "2024-04-04T01:30:20.243898Z"
    }
   },
   "outputs": [],
   "source": [
    "from selenium import webdriver\n",
    "\n",
    "navegador = webdriver.Chrome()\n",
    "navegador.get(\"https://visa.vfsglobal.com/cpv/pt/prt/login\")\n"
   ]
  },
  {
   "cell_type": "code",
   "execution_count": 3,
   "metadata": {
    "ExecuteTime": {
     "end_time": "2024-04-04T01:30:45.317619Z",
     "start_time": "2024-04-04T01:30:44.848579Z"
    },
    "scrolled": true
   },
   "outputs": [
    {
     "ename": "NoSuchElementException",
     "evalue": "Message: no such element: Unable to locate element: {\"method\":\"xpath\",\"selector\":\"/html/body/app-root/div/div/app-dashboard/section[1]/div/div[1]/div[2]/button\"}\n  (Session info: chrome=123.0.6312.105); For documentation on this error, please visit: https://www.selenium.dev/documentation/webdriver/troubleshooting/errors#no-such-element-exception\nStacktrace:\n0   chromedriver                        0x0000000107ee9128 chromedriver + 4596008\n1   chromedriver                        0x0000000107ee0e93 chromedriver + 4562579\n2   chromedriver                        0x0000000107ae439a chromedriver + 381850\n3   chromedriver                        0x0000000107b2df08 chromedriver + 683784\n4   chromedriver                        0x0000000107b2e191 chromedriver + 684433\n5   chromedriver                        0x0000000107b72b14 chromedriver + 965396\n6   chromedriver                        0x0000000107b5016d chromedriver + 823661\n7   chromedriver                        0x0000000107b7014d chromedriver + 954701\n8   chromedriver                        0x0000000107b4fee3 chromedriver + 823011\n9   chromedriver                        0x0000000107b20be4 chromedriver + 629732\n10  chromedriver                        0x0000000107b2179e chromedriver + 632734\n11  chromedriver                        0x0000000107eaf042 chromedriver + 4358210\n12  chromedriver                        0x0000000107eb3c8d chromedriver + 4377741\n13  chromedriver                        0x0000000107eb3603 chromedriver + 4376067\n14  chromedriver                        0x0000000107eb3f35 chromedriver + 4378421\n15  chromedriver                        0x0000000107e98a65 chromedriver + 4266597\n16  chromedriver                        0x0000000107eb42bd chromedriver + 4379325\n17  chromedriver                        0x0000000107e8b0b0 chromedriver + 4210864\n18  chromedriver                        0x0000000107ed1af8 chromedriver + 4500216\n19  chromedriver                        0x0000000107ed1c71 chromedriver + 4500593\n20  chromedriver                        0x0000000107ee0ad3 chromedriver + 4561619\n21  libsystem_pthread.dylib             0x00007fff206c58fc _pthread_start + 224\n22  libsystem_pthread.dylib             0x00007fff206c1443 thread_start + 15\n",
     "output_type": "error",
     "traceback": [
      "\u001b[0;31m---------------------------------------------------------------------------\u001b[0m",
      "\u001b[0;31mNoSuchElementException\u001b[0m                    Traceback (most recent call last)",
      "\u001b[0;32m<ipython-input-3-58377a3619df>\u001b[0m in \u001b[0;36m<module>\u001b[0;34m\u001b[0m\n\u001b[1;32m     21\u001b[0m \u001b[0;31m#pagina inicial\u001b[0m\u001b[0;34m\u001b[0m\u001b[0;34m\u001b[0m\u001b[0;34m\u001b[0m\u001b[0m\n\u001b[1;32m     22\u001b[0m \u001b[0;31m#Botao iniciar nova reserva\u001b[0m\u001b[0;34m\u001b[0m\u001b[0;34m\u001b[0m\u001b[0;34m\u001b[0m\u001b[0m\n\u001b[0;32m---> 23\u001b[0;31m \u001b[0mnavegador\u001b[0m\u001b[0;34m.\u001b[0m\u001b[0mfind_element\u001b[0m\u001b[0;34m(\u001b[0m\u001b[0;34m\"xpath\"\u001b[0m\u001b[0;34m,\u001b[0m\u001b[0;34m'/html/body/app-root/div/div/app-dashboard/section[1]/div/div[1]/div[2]/button'\u001b[0m\u001b[0;34m)\u001b[0m\u001b[0;34m.\u001b[0m\u001b[0mclick\u001b[0m\u001b[0;34m(\u001b[0m\u001b[0;34m)\u001b[0m\u001b[0;34m\u001b[0m\u001b[0;34m\u001b[0m\u001b[0m\n\u001b[0m\u001b[1;32m     24\u001b[0m \u001b[0;34m\u001b[0m\u001b[0m\n",
      "\u001b[0;32m~/.pyenv/versions/3.8.5/envs/DataScienceEmProducao1/lib/python3.8/site-packages/selenium/webdriver/remote/webdriver.py\u001b[0m in \u001b[0;36mfind_element\u001b[0;34m(self, by, value)\u001b[0m\n\u001b[1;32m    739\u001b[0m             \u001b[0mvalue\u001b[0m \u001b[0;34m=\u001b[0m \u001b[0;34mf'[name=\"{value}\"]'\u001b[0m\u001b[0;34m\u001b[0m\u001b[0;34m\u001b[0m\u001b[0m\n\u001b[1;32m    740\u001b[0m \u001b[0;34m\u001b[0m\u001b[0m\n\u001b[0;32m--> 741\u001b[0;31m         \u001b[0;32mreturn\u001b[0m \u001b[0mself\u001b[0m\u001b[0;34m.\u001b[0m\u001b[0mexecute\u001b[0m\u001b[0;34m(\u001b[0m\u001b[0mCommand\u001b[0m\u001b[0;34m.\u001b[0m\u001b[0mFIND_ELEMENT\u001b[0m\u001b[0;34m,\u001b[0m \u001b[0;34m{\u001b[0m\u001b[0;34m\"using\"\u001b[0m\u001b[0;34m:\u001b[0m \u001b[0mby\u001b[0m\u001b[0;34m,\u001b[0m \u001b[0;34m\"value\"\u001b[0m\u001b[0;34m:\u001b[0m \u001b[0mvalue\u001b[0m\u001b[0;34m}\u001b[0m\u001b[0;34m)\u001b[0m\u001b[0;34m[\u001b[0m\u001b[0;34m\"value\"\u001b[0m\u001b[0;34m]\u001b[0m\u001b[0;34m\u001b[0m\u001b[0;34m\u001b[0m\u001b[0m\n\u001b[0m\u001b[1;32m    742\u001b[0m \u001b[0;34m\u001b[0m\u001b[0m\n\u001b[1;32m    743\u001b[0m     \u001b[0;32mdef\u001b[0m \u001b[0mfind_elements\u001b[0m\u001b[0;34m(\u001b[0m\u001b[0mself\u001b[0m\u001b[0;34m,\u001b[0m \u001b[0mby\u001b[0m\u001b[0;34m=\u001b[0m\u001b[0mBy\u001b[0m\u001b[0;34m.\u001b[0m\u001b[0mID\u001b[0m\u001b[0;34m,\u001b[0m \u001b[0mvalue\u001b[0m\u001b[0;34m:\u001b[0m \u001b[0mOptional\u001b[0m\u001b[0;34m[\u001b[0m\u001b[0mstr\u001b[0m\u001b[0;34m]\u001b[0m \u001b[0;34m=\u001b[0m \u001b[0;32mNone\u001b[0m\u001b[0;34m)\u001b[0m \u001b[0;34m->\u001b[0m \u001b[0mList\u001b[0m\u001b[0;34m[\u001b[0m\u001b[0mWebElement\u001b[0m\u001b[0;34m]\u001b[0m\u001b[0;34m:\u001b[0m\u001b[0;34m\u001b[0m\u001b[0;34m\u001b[0m\u001b[0m\n",
      "\u001b[0;32m~/.pyenv/versions/3.8.5/envs/DataScienceEmProducao1/lib/python3.8/site-packages/selenium/webdriver/remote/webdriver.py\u001b[0m in \u001b[0;36mexecute\u001b[0;34m(self, driver_command, params)\u001b[0m\n\u001b[1;32m    345\u001b[0m         \u001b[0mresponse\u001b[0m \u001b[0;34m=\u001b[0m \u001b[0mself\u001b[0m\u001b[0;34m.\u001b[0m\u001b[0mcommand_executor\u001b[0m\u001b[0;34m.\u001b[0m\u001b[0mexecute\u001b[0m\u001b[0;34m(\u001b[0m\u001b[0mdriver_command\u001b[0m\u001b[0;34m,\u001b[0m \u001b[0mparams\u001b[0m\u001b[0;34m)\u001b[0m\u001b[0;34m\u001b[0m\u001b[0;34m\u001b[0m\u001b[0m\n\u001b[1;32m    346\u001b[0m         \u001b[0;32mif\u001b[0m \u001b[0mresponse\u001b[0m\u001b[0;34m:\u001b[0m\u001b[0;34m\u001b[0m\u001b[0;34m\u001b[0m\u001b[0m\n\u001b[0;32m--> 347\u001b[0;31m             \u001b[0mself\u001b[0m\u001b[0;34m.\u001b[0m\u001b[0merror_handler\u001b[0m\u001b[0;34m.\u001b[0m\u001b[0mcheck_response\u001b[0m\u001b[0;34m(\u001b[0m\u001b[0mresponse\u001b[0m\u001b[0;34m)\u001b[0m\u001b[0;34m\u001b[0m\u001b[0;34m\u001b[0m\u001b[0m\n\u001b[0m\u001b[1;32m    348\u001b[0m             \u001b[0mresponse\u001b[0m\u001b[0;34m[\u001b[0m\u001b[0;34m\"value\"\u001b[0m\u001b[0;34m]\u001b[0m \u001b[0;34m=\u001b[0m \u001b[0mself\u001b[0m\u001b[0;34m.\u001b[0m\u001b[0m_unwrap_value\u001b[0m\u001b[0;34m(\u001b[0m\u001b[0mresponse\u001b[0m\u001b[0;34m.\u001b[0m\u001b[0mget\u001b[0m\u001b[0;34m(\u001b[0m\u001b[0;34m\"value\"\u001b[0m\u001b[0;34m,\u001b[0m \u001b[0;32mNone\u001b[0m\u001b[0;34m)\u001b[0m\u001b[0;34m)\u001b[0m\u001b[0;34m\u001b[0m\u001b[0;34m\u001b[0m\u001b[0m\n\u001b[1;32m    349\u001b[0m             \u001b[0;32mreturn\u001b[0m \u001b[0mresponse\u001b[0m\u001b[0;34m\u001b[0m\u001b[0;34m\u001b[0m\u001b[0m\n",
      "\u001b[0;32m~/.pyenv/versions/3.8.5/envs/DataScienceEmProducao1/lib/python3.8/site-packages/selenium/webdriver/remote/errorhandler.py\u001b[0m in \u001b[0;36mcheck_response\u001b[0;34m(self, response)\u001b[0m\n\u001b[1;32m    227\u001b[0m                 \u001b[0malert_text\u001b[0m \u001b[0;34m=\u001b[0m \u001b[0mvalue\u001b[0m\u001b[0;34m[\u001b[0m\u001b[0;34m\"alert\"\u001b[0m\u001b[0;34m]\u001b[0m\u001b[0;34m.\u001b[0m\u001b[0mget\u001b[0m\u001b[0;34m(\u001b[0m\u001b[0;34m\"text\"\u001b[0m\u001b[0;34m)\u001b[0m\u001b[0;34m\u001b[0m\u001b[0;34m\u001b[0m\u001b[0m\n\u001b[1;32m    228\u001b[0m             \u001b[0;32mraise\u001b[0m \u001b[0mexception_class\u001b[0m\u001b[0;34m(\u001b[0m\u001b[0mmessage\u001b[0m\u001b[0;34m,\u001b[0m \u001b[0mscreen\u001b[0m\u001b[0;34m,\u001b[0m \u001b[0mstacktrace\u001b[0m\u001b[0;34m,\u001b[0m \u001b[0malert_text\u001b[0m\u001b[0;34m)\u001b[0m  \u001b[0;31m# type: ignore[call-arg]  # mypy is not smart enough here\u001b[0m\u001b[0;34m\u001b[0m\u001b[0;34m\u001b[0m\u001b[0m\n\u001b[0;32m--> 229\u001b[0;31m         \u001b[0;32mraise\u001b[0m \u001b[0mexception_class\u001b[0m\u001b[0;34m(\u001b[0m\u001b[0mmessage\u001b[0m\u001b[0;34m,\u001b[0m \u001b[0mscreen\u001b[0m\u001b[0;34m,\u001b[0m \u001b[0mstacktrace\u001b[0m\u001b[0;34m)\u001b[0m\u001b[0;34m\u001b[0m\u001b[0;34m\u001b[0m\u001b[0m\n\u001b[0m",
      "\u001b[0;31mNoSuchElementException\u001b[0m: Message: no such element: Unable to locate element: {\"method\":\"xpath\",\"selector\":\"/html/body/app-root/div/div/app-dashboard/section[1]/div/div[1]/div[2]/button\"}\n  (Session info: chrome=123.0.6312.105); For documentation on this error, please visit: https://www.selenium.dev/documentation/webdriver/troubleshooting/errors#no-such-element-exception\nStacktrace:\n0   chromedriver                        0x0000000107ee9128 chromedriver + 4596008\n1   chromedriver                        0x0000000107ee0e93 chromedriver + 4562579\n2   chromedriver                        0x0000000107ae439a chromedriver + 381850\n3   chromedriver                        0x0000000107b2df08 chromedriver + 683784\n4   chromedriver                        0x0000000107b2e191 chromedriver + 684433\n5   chromedriver                        0x0000000107b72b14 chromedriver + 965396\n6   chromedriver                        0x0000000107b5016d chromedriver + 823661\n7   chromedriver                        0x0000000107b7014d chromedriver + 954701\n8   chromedriver                        0x0000000107b4fee3 chromedriver + 823011\n9   chromedriver                        0x0000000107b20be4 chromedriver + 629732\n10  chromedriver                        0x0000000107b2179e chromedriver + 632734\n11  chromedriver                        0x0000000107eaf042 chromedriver + 4358210\n12  chromedriver                        0x0000000107eb3c8d chromedriver + 4377741\n13  chromedriver                        0x0000000107eb3603 chromedriver + 4376067\n14  chromedriver                        0x0000000107eb3f35 chromedriver + 4378421\n15  chromedriver                        0x0000000107e98a65 chromedriver + 4266597\n16  chromedriver                        0x0000000107eb42bd chromedriver + 4379325\n17  chromedriver                        0x0000000107e8b0b0 chromedriver + 4210864\n18  chromedriver                        0x0000000107ed1af8 chromedriver + 4500216\n19  chromedriver                        0x0000000107ed1c71 chromedriver + 4500593\n20  chromedriver                        0x0000000107ee0ad3 chromedriver + 4561619\n21  libsystem_pthread.dylib             0x00007fff206c58fc _pthread_start + 224\n22  libsystem_pthread.dylib             0x00007fff206c1443 thread_start + 15\n"
     ]
    }
   ],
   "source": [
    "#Preencher email\n",
    "#navegador.find_element(\"xpath\",'//*[@id=\"mat-input-0\"]').send_keys(\"sandra\")\n",
    "\n",
    "#Preencher email\n",
    "navegador.find_element(\n",
    "    \"xpath\",'//*[@id=\"mat-input-0\"]').send_keys(\"spina8383@gmail.com\")\n",
    "\n",
    "#Preencher passwor\n",
    "navegador.find_element(\n",
    "    \"xpath\", '//*[@id=\"mat-input-1\"]').send_keys(\"Segredo1#\")\n",
    "\n",
    "\n",
    "#Preencher confirmar\n",
    "#navegador.find_element(\n",
    "#    \"xpath\",'//*[@id=\"content\"]').send_keys(\"yes\")\n",
    "\n",
    "\n",
    "#Clicar no botao\n",
    "navegador.find_element(\"xpath\",'/html/body/app-root/div/div/app-login/section/div/div/mat-card/form/button').click()\n",
    "\n",
    "#pagina inicial\n",
    "#Botao iniciar nova reserva\n",
    "navegador.find_element(\"xpath\",'/html/body/app-root/div/div/app-dashboard/section[1]/div/div[1]/div[2]/button').click()\n",
    "\n"
   ]
  },
  {
   "cell_type": "code",
   "execution_count": 29,
   "metadata": {
    "ExecuteTime": {
     "end_time": "2024-03-27T21:30:15.365541Z",
     "start_time": "2024-03-27T21:30:10.002366Z"
    }
   },
   "outputs": [
    {
     "name": "stdout",
     "output_type": "stream",
     "text": [
      "Requirement already satisfied: xlrd in /Users/sandrafernandes/.pyenv/versions/3.8.5/envs/DataScienceEmProducao1/lib/python3.8/site-packages (2.0.1)\n",
      "Requirement already satisfied: xlrd in /Users/sandrafernandes/.pyenv/versions/3.8.5/envs/DataScienceEmProducao1/lib/python3.8/site-packages (2.0.1)\n",
      "Requirement already satisfied: openpyxl in /Users/sandrafernandes/.pyenv/versions/3.8.5/envs/DataScienceEmProducao1/lib/python3.8/site-packages (3.1.2)\n",
      "Requirement already satisfied: et-xmlfile in /Users/sandrafernandes/.pyenv/versions/3.8.5/envs/DataScienceEmProducao1/lib/python3.8/site-packages (from openpyxl) (1.1.0)\n"
     ]
    }
   ],
   "source": [
    "!pip install xlrd\n",
    "!pip install --upgrade xlrd\n",
    "!pip install openpyxl"
   ]
  },
  {
   "cell_type": "code",
   "execution_count": 30,
   "metadata": {
    "ExecuteTime": {
     "end_time": "2024-03-27T21:30:26.654913Z",
     "start_time": "2024-03-27T21:30:26.619798Z"
    }
   },
   "outputs": [
    {
     "data": {
      "text/html": [
       "<div>\n",
       "<style scoped>\n",
       "    .dataframe tbody tr th:only-of-type {\n",
       "        vertical-align: middle;\n",
       "    }\n",
       "\n",
       "    .dataframe tbody tr th {\n",
       "        vertical-align: top;\n",
       "    }\n",
       "\n",
       "    .dataframe thead th {\n",
       "        text-align: right;\n",
       "    }\n",
       "</style>\n",
       "<table border=\"1\" class=\"dataframe\">\n",
       "  <thead>\n",
       "    <tr style=\"text-align: right;\">\n",
       "      <th></th>\n",
       "      <th>Nome</th>\n",
       "      <th>Email</th>\n",
       "      <th>Descrição</th>\n",
       "      <th>valor</th>\n",
       "    </tr>\n",
       "  </thead>\n",
       "  <tbody>\n",
       "    <tr>\n",
       "      <th>0</th>\n",
       "      <td>sara</td>\n",
       "      <td>sara@gmail.com</td>\n",
       "      <td>curso Excel</td>\n",
       "      <td>1500</td>\n",
       "    </tr>\n",
       "    <tr>\n",
       "      <th>1</th>\n",
       "      <td>ana</td>\n",
       "      <td>ana@gmail.com</td>\n",
       "      <td>curso python</td>\n",
       "      <td>1500</td>\n",
       "    </tr>\n",
       "    <tr>\n",
       "      <th>2</th>\n",
       "      <td>rui</td>\n",
       "      <td>rui@gmail.com</td>\n",
       "      <td>curso Excel</td>\n",
       "      <td>2000</td>\n",
       "    </tr>\n",
       "    <tr>\n",
       "      <th>3</th>\n",
       "      <td>paulo</td>\n",
       "      <td>paulo@gmail.com</td>\n",
       "      <td>curso python</td>\n",
       "      <td>3000</td>\n",
       "    </tr>\n",
       "    <tr>\n",
       "      <th>4</th>\n",
       "      <td>tiana</td>\n",
       "      <td>tiana@gmail.com</td>\n",
       "      <td>curso python</td>\n",
       "      <td>2500</td>\n",
       "    </tr>\n",
       "    <tr>\n",
       "      <th>5</th>\n",
       "      <td>laura</td>\n",
       "      <td>laura@gmail.com</td>\n",
       "      <td>curso Excel</td>\n",
       "      <td>3000</td>\n",
       "    </tr>\n",
       "    <tr>\n",
       "      <th>6</th>\n",
       "      <td>lia</td>\n",
       "      <td>sara@gmail.com</td>\n",
       "      <td>curso Excel</td>\n",
       "      <td>1500</td>\n",
       "    </tr>\n",
       "    <tr>\n",
       "      <th>7</th>\n",
       "      <td>lorena</td>\n",
       "      <td>ana@gmail.com</td>\n",
       "      <td>curso python</td>\n",
       "      <td>1500</td>\n",
       "    </tr>\n",
       "    <tr>\n",
       "      <th>8</th>\n",
       "      <td>fany</td>\n",
       "      <td>rui@gmail.com</td>\n",
       "      <td>curso Excel</td>\n",
       "      <td>2000</td>\n",
       "    </tr>\n",
       "    <tr>\n",
       "      <th>9</th>\n",
       "      <td>teresa</td>\n",
       "      <td>paulo@gmail.com</td>\n",
       "      <td>curso python</td>\n",
       "      <td>3000</td>\n",
       "    </tr>\n",
       "    <tr>\n",
       "      <th>10</th>\n",
       "      <td>katia</td>\n",
       "      <td>tiana@gmail.com</td>\n",
       "      <td>curso python</td>\n",
       "      <td>2500</td>\n",
       "    </tr>\n",
       "    <tr>\n",
       "      <th>11</th>\n",
       "      <td>leida</td>\n",
       "      <td>laura@gmail.com</td>\n",
       "      <td>curso Excel</td>\n",
       "      <td>3000</td>\n",
       "    </tr>\n",
       "  </tbody>\n",
       "</table>\n",
       "</div>"
      ],
      "text/plain": [
       "      Nome            Email     Descrição  valor\n",
       "0     sara   sara@gmail.com   curso Excel   1500\n",
       "1      ana    ana@gmail.com  curso python   1500\n",
       "2      rui    rui@gmail.com   curso Excel   2000\n",
       "3    paulo  paulo@gmail.com  curso python   3000\n",
       "4    tiana  tiana@gmail.com  curso python   2500\n",
       "5    laura  laura@gmail.com   curso Excel   3000\n",
       "6      lia   sara@gmail.com   curso Excel   1500\n",
       "7   lorena    ana@gmail.com  curso python   1500\n",
       "8     fany    rui@gmail.com   curso Excel   2000\n",
       "9   teresa  paulo@gmail.com  curso python   3000\n",
       "10   katia  tiana@gmail.com  curso python   2500\n",
       "11   leida  laura@gmail.com   curso Excel   3000"
      ]
     },
     "metadata": {},
     "output_type": "display_data"
    }
   ],
   "source": [
    "import pandas as pd\n",
    "import xlrd\n",
    "\n",
    "tabela = pd.read_excel(\"Emitir.xlsx\", engine=\"openpyxl\")\n",
    "\n",
    "display(tabela)"
   ]
  },
  {
   "cell_type": "code",
   "execution_count": 42,
   "metadata": {
    "ExecuteTime": {
     "end_time": "2024-03-27T22:11:25.478800Z",
     "start_time": "2024-03-27T22:10:57.323758Z"
    }
   },
   "outputs": [],
   "source": [
    "for i, nome in enumerate(tabela['Nome']):\n",
    "    email = tabela.loc[i, \"Email\"]\n",
    "    descricao = tabela.loc[i, \"Descrição\"]\n",
    "    valor = tabela.loc[i, \"valor\"]\n",
    "    \n",
    "    navegador.get(\"https://docs.google.com/forms/d/e/1FAIpQLSfszo6Sz68F5c0bMq9hkeHkHxZW_eKwetP43ddDi4mOUKvg_A/viewform\")\n",
    "    #Preencher nome\n",
    "    navegador.find_element(\"xpath\",'//*[@id=\"mG61Hd\"]/div[2]/div/div[2]/div[1]/div/div/div[2]/div/div[1]/div/div[1]/input').send_keys(nome)\n",
    "\n",
    "    #Preencher email\n",
    "    navegador.find_element(\n",
    "    \"xpath\",'//*[@id=\"mG61Hd\"]/div[2]/div/div[2]/div[2]/div/div/div[2]/div/div[1]/div/div[1]/input').send_keys(email)\n",
    "\n",
    "    #Preencher descricao\n",
    "    navegador.find_element(\n",
    "        \"xpath\",'//*[@id=\"mG61Hd\"]/div[2]/div/div[2]/div[3]/div/div/div[2]/div/div[1]/div/div[1]/input').send_keys(descricao)\n",
    "\n",
    "\n",
    "    #Preencher valor\n",
    "    navegador.find_element(\n",
    "        \"xpath\",'//*[@id=\"mG61Hd\"]/div[2]/div/div[2]/div[4]/div/div/div[2]/div/div[1]/div/div[1]/input').send_keys(str(valor))\n",
    "\n",
    "\n",
    "    #Clicar no botao\n",
    "    navegador.find_element(\"xpath\",'//*[@id=\"mG61Hd\"]/div[2]/div/div[3]/div[1]/div[1]/div/span/span').click()\n",
    "\n",
    "\n"
   ]
  },
  {
   "cell_type": "code",
   "execution_count": null,
   "metadata": {
    "ExecuteTime": {
     "end_time": "2024-03-27T19:55:50.927976Z",
     "start_time": "2024-03-27T19:55:48.537118Z"
    }
   },
   "outputs": [],
   "source": []
  },
  {
   "cell_type": "code",
   "execution_count": 14,
   "metadata": {
    "ExecuteTime": {
     "end_time": "2024-03-27T20:21:00.286800Z",
     "start_time": "2024-03-27T20:20:56.406744Z"
    }
   },
   "outputs": [
    {
     "name": "stdout",
     "output_type": "stream",
     "text": [
      "Collecting openpyxl\n",
      "  Downloading openpyxl-3.1.2-py2.py3-none-any.whl.metadata (2.5 kB)\n",
      "Collecting et-xmlfile (from openpyxl)\n",
      "  Downloading et_xmlfile-1.1.0-py3-none-any.whl.metadata (1.8 kB)\n",
      "Using cached openpyxl-3.1.2-py2.py3-none-any.whl (249 kB)\n",
      "Using cached et_xmlfile-1.1.0-py3-none-any.whl (4.7 kB)\n",
      "Installing collected packages: et-xmlfile, openpyxl\n",
      "Successfully installed et-xmlfile-1.1.0 openpyxl-3.1.2\n"
     ]
    }
   ],
   "source": []
  },
  {
   "cell_type": "code",
   "execution_count": null,
   "metadata": {},
   "outputs": [],
   "source": []
  }
 ],
 "metadata": {
  "kernelspec": {
   "display_name": "Python 3",
   "language": "python",
   "name": "python3"
  },
  "language_info": {
   "codemirror_mode": {
    "name": "ipython",
    "version": 3
   },
   "file_extension": ".py",
   "mimetype": "text/x-python",
   "name": "python",
   "nbconvert_exporter": "python",
   "pygments_lexer": "ipython3",
   "version": "3.8.5"
  }
 },
 "nbformat": 4,
 "nbformat_minor": 2
}
