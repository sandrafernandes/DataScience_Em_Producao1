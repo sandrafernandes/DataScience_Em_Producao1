{
 "cells": [
  {
   "cell_type": "code",
   "execution_count": 4,
   "metadata": {
    "ExecuteTime": {
     "end_time": "2024-04-05T02:36:41.558185Z",
     "start_time": "2024-04-05T02:36:37.354463Z"
    }
   },
   "outputs": [],
   "source": [
    "from selenium import webdriver\n",
    "\n",
    "navegador = webdriver.Chrome()\n",
    "navegador.get(\"https://docs.google.com/forms/d/e/1FAIpQLSfszo6Sz68F5c0bMq9hkeHkHxZW_eKwetP43ddDi4mOUKvg_A/viewform\")\n",
    "\n"
   ]
  },
  {
   "cell_type": "code",
   "execution_count": 3,
   "metadata": {
    "ExecuteTime": {
     "end_time": "2024-04-05T02:32:33.400261Z",
     "start_time": "2024-04-05T02:32:33.383112Z"
    },
    "scrolled": true
   },
   "outputs": [
    {
     "ename": "SyntaxError",
     "evalue": "invalid syntax (<ipython-input-3-87d704003892>, line 25)",
     "output_type": "error",
     "traceback": [
      "\u001b[0;36m  File \u001b[0;32m\"<ipython-input-3-87d704003892>\"\u001b[0;36m, line \u001b[0;32m25\u001b[0m\n\u001b[0;31m    navegador.find_element(\"xpath\",'/html/body/app-root/div/div/app-dashboard/section[1]/div/div[1]/div[2]').click()\u001b[0m\n\u001b[0m    ^\u001b[0m\n\u001b[0;31mSyntaxError\u001b[0m\u001b[0;31m:\u001b[0m invalid syntax\n"
     ]
    }
   ],
   "source": [
    "#login\n",
    "try:\n",
    "    # Navegar até a página de login do VFS\n",
    "    driver.get(\"https://visa.vfsglobal.com/cpv/en/prt/login\")\n",
    "\n",
    "    # Localizar e clicar no botão de login\n",
    "    login_button = WebDriverWait(driver, 10).until(EC.element_to_be_clickable((By.XPATH, \"//button[text()='Login']\")))\n",
    "    login_button.click()\n",
    "\n",
    "    # Preencher nome de usuário e senha\n",
    "    username_input = WebDriverWait(driver, 10).until(EC.presence_of_element_located((By.NAME, \"username\")))\n",
    "    password_input = WebDriverWait(driver, 10).until(EC.presence_of_element_located((By.NAME, \"password\")))\n",
    "    \n",
    "    username_input.send_keys(\"uoiea9991@gmail.com\")\n",
    "    password_input.send_keys(\"Apocalipse21?\")\n",
    "\n",
    "    # Enviar o formulário de login\n",
    "    login_form = WebDriverWait(driver, 10).until(EC.presence_of_element_located((By.XPATH, \"//form[@id='loginForm']\")))\n",
    "    login_form.submit()\n",
    "\n",
    "    # Agora você está logado e pode prosseguir com as ações desejadas após o login\n",
    "    \n",
    "\n",
    "#Clicar no botao iniciar nova reserva\n",
    "navegador.find_element(\"xpath\",'/html/body/app-root/div/div/app-dashboard/section[1]/div/div[1]/div[2]').click()\n",
    "\n",
    "#Preencher Escolher o motivo da viagem\n",
    "navegador.find_element(\n",
    "    \"xpath\", '/html/body/app-root/div/div/app-eligibility-criteria/section/form/mat-card[1]/form/div[3]/mat-form-field/div/div[1]/div[1]').send_keys(\"Vistas de trabalho - D1 - E8 - E2 - E5\")\n",
    "\n",
    "#//*[@id=\"mat-select-value-3\"]\n",
    "\n",
    "#//*[@id=\"mat-select-value-3\"]/span/span/font/font\n",
    "\n",
    "#//*[@id=\"mat-option-6\"]/span/font/font\n",
    "\n",
    "#/html/body/app-root/div/div/app-eligibility-criteria/section/form/mat-card[1]/form/div[3]/mat-form-field/div/div[1]/div[3]\n",
    "\n",
    "#/html/body/app-root/div/div/app-eligibility-criteria/section/form/mat-card[1]/form/div[3]/mat-form-field/div/div[1]\n",
    "\n",
    "#/html/body/app-root/div/div/app-eligibility-criteria/section/form/mat-card[1]/form/div[3]/mat-form-field/div/div[1]\n",
    "\n",
    "#//*[@id=\"mat-select-2\"]/div/div[2]\n",
    "#//*[@id=\"mat-option-6\"]/span/font/font\n",
    "\n",
    "\n",
    "#Clicar no botao Continuar\n",
    "navegador.find_element(\n",
    "    \"xpath\",'/html/body/app-root/div/div/app-eligibility-criteria/section/form/mat-card[2]/button').click()\n",
    "\n",
    "#Preencher Primeiro nome\n",
    "navegador.find_element(\n",
    "    \"xpath\",'/html/body/app-root/div/div/app-applicant-details/section/mat-card[1]/form/app-dynamic-form/div/div/app-dynamic-control[5]/div/div/div/app-input-control/div/mat-form-field/div/div[1]/div[3]').send_keys(\"sandra\")\n",
    "\n",
    "#Preencher Apelido\n",
    "navegador.find_element(\n",
    "    \"xpath\",'/html/body/app-root/div/div/app-applicant-details/section/mat-card[1]/form/app-dynamic-form/div/div/app-dynamic-control[6]/div/div/div/app-input-control/div/mat-form-field/div/div[1]/div[3]').send_keys(\"Fernandes\")\n",
    "\n",
    "\n",
    "#Preencher Genero\n",
    "navegador.find_element(\n",
    "    \"xpath\",'/html/body/app-root/div/div/app-applicant-details/section/mat-card[1]/form/app-dynamic-form/div/div/app-dynamic-control[7]/div/div[1]/div/app-dropdown/div/mat-form-field/div/div[1]/div[3]').send_keys(\"Feminino\")\n",
    "\n",
    "\n",
    "#Preencher Data de nascimento\n",
    "navegador.find_element(\n",
    "    \"xpath\",'/html/body/app-root/div/div/app-applicant-details/section/mat-card[1]/form/app-dynamic-form/div/div/app-dynamic-control[7]/div/div[2]').send_keys(\"07-01-1986\")\n",
    "\n",
    "\n",
    "\n",
    "\n",
    "#Preencher Nacionalidade atual\n",
    "navegador.find_element(\n",
    "    \"xpath\",'/html/body/app-root/div/div/app-applicant-details/section/mat-card[1]/form/app-dynamic-form/div/div/app-dynamic-control[8]/div/div/div/app-dropdown/div/mat-form-field/div/div[1]/div[3]').send_keys(\"cabo verde\")\n",
    "\n",
    "\n",
    "#Preencher Numero do passaporte\n",
    "navegador.find_element(\n",
    "    \"xpath\",'/html/body/app-root/div/div/app-applicant-details/section/mat-card[1]/form/app-dynamic-form/div/div/app-dynamic-control[9]/div/div[1]/div/app-input-control/div/mat-form-field/div/div[1]/div[3]').send_keys(\"PA233544\")\n",
    "\n",
    "\n",
    "#Preencher Dados de validade do passaporte\n",
    "navegador.find_element(\n",
    "    \"xpath\",'/html/body/app-root/div/div/app-applicant-details/section/mat-card[1]/form/app-dynamic-form/div/div/app-dynamic-control[9]/div/div[2]').send_keys(\"29/10/2026\")\n",
    "\n",
    "#Preencher Numero de contacto (INDICATIVO E NUMERO)\n",
    "navegador.find_element(\n",
    "    \"xpath\",'/html/body/app-root/div/div/app-applicant-details/section/mat-card[1]/form/app-dynamic-form/div/div/app-dynamic-control[12]/div/div/div[2]/div[1]/app-input-control/div/mat-form-field/div/div[1]/div[3]').send_keys(\"+351\")\n",
    "\n",
    "navegador.find_element(\n",
    "    \"xpath\",'/html/body/app-root/div/div/app-applicant-details/section/mat-card[1]/form/app-dynamic-form/div/div/app-dynamic-control[13]/div/div/div/app-input-control/div/mat-form-field/div/div[1]/div[3]').send_keys(\"5845384\")\n",
    "\n",
    "#Preencher Email\n",
    "navegador.find_element(\n",
    "    \"xpath\",'/html/body/app-root/div/div/app-applicant-details/section/mat-card[1]/form/app-dynamic-form/div/div/app-dynamic-control[13]/div/div/div/app-input-control/div/mat-form-field/div/div[1]/div[3]').send_keys(\"spina8383@gmail.com\")\n",
    "\n",
    "#Clicar no botao Guardar\n",
    "navegador.find_element(\"xpath\",'/html/body/app-root/div/div/app-applicant-details/section/mat-card[2]/app-dynamic-form/div/div/app-dynamic-control/div/div/div[2]/button').click()\n",
    "\n",
    "\n",
    "except Exception as e:\n",
    "    # Se ocorrer algum erro durante o processo\n",
    "    print(\"Ocorreu um erro durante o processo:\", str(e))\n",
    "    # Você pode adicionar lógica aqui para lidar com o erro de forma apropriada, como enviar uma notificação por e-mail\n",
    "\n",
    "finally:\n",
    "    # Fechar o navegador\n",
    "    navegador.quit()\n",
    "\n"
   ]
  },
  {
   "cell_type": "code",
   "execution_count": 8,
   "metadata": {
    "ExecuteTime": {
     "end_time": "2024-04-04T11:41:01.025559Z",
     "start_time": "2024-04-04T11:40:56.183306Z"
    }
   },
   "outputs": [
    {
     "name": "stdout",
     "output_type": "stream",
     "text": [
      "Requirement already satisfied: xlrd in /Users/sandrafernandes/.pyenv/versions/3.8.5/envs/DataScienceEmProducao1/lib/python3.8/site-packages (2.0.1)\n",
      "Requirement already satisfied: xlrd in /Users/sandrafernandes/.pyenv/versions/3.8.5/envs/DataScienceEmProducao1/lib/python3.8/site-packages (2.0.1)\n",
      "Requirement already satisfied: openpyxl in /Users/sandrafernandes/.pyenv/versions/3.8.5/envs/DataScienceEmProducao1/lib/python3.8/site-packages (3.1.2)\n",
      "Requirement already satisfied: et-xmlfile in /Users/sandrafernandes/.pyenv/versions/3.8.5/envs/DataScienceEmProducao1/lib/python3.8/site-packages (from openpyxl) (1.1.0)\n"
     ]
    }
   ],
   "source": [
    "!pip install xlrd\n",
    "!pip install --upgrade xlrd\n",
    "!pip install openpyxl"
   ]
  },
  {
   "cell_type": "code",
   "execution_count": 3,
   "metadata": {
    "ExecuteTime": {
     "end_time": "2024-04-04T14:03:14.704520Z",
     "start_time": "2024-04-04T14:03:14.675664Z"
    }
   },
   "outputs": [
    {
     "data": {
      "text/html": [
       "<div>\n",
       "<style scoped>\n",
       "    .dataframe tbody tr th:only-of-type {\n",
       "        vertical-align: middle;\n",
       "    }\n",
       "\n",
       "    .dataframe tbody tr th {\n",
       "        vertical-align: top;\n",
       "    }\n",
       "\n",
       "    .dataframe thead th {\n",
       "        text-align: right;\n",
       "    }\n",
       "</style>\n",
       "<table border=\"1\" class=\"dataframe\">\n",
       "  <thead>\n",
       "    <tr style=\"text-align: right;\">\n",
       "      <th></th>\n",
       "      <th>Nome</th>\n",
       "      <th>Email</th>\n",
       "      <th>Descrição</th>\n",
       "      <th>valor</th>\n",
       "    </tr>\n",
       "  </thead>\n",
       "  <tbody>\n",
       "    <tr>\n",
       "      <th>0</th>\n",
       "      <td>sara</td>\n",
       "      <td>sara@gmail.com</td>\n",
       "      <td>curso Excel</td>\n",
       "      <td>1500</td>\n",
       "    </tr>\n",
       "    <tr>\n",
       "      <th>1</th>\n",
       "      <td>ana</td>\n",
       "      <td>ana@gmail.com</td>\n",
       "      <td>curso python</td>\n",
       "      <td>1500</td>\n",
       "    </tr>\n",
       "    <tr>\n",
       "      <th>2</th>\n",
       "      <td>rui</td>\n",
       "      <td>rui@gmail.com</td>\n",
       "      <td>curso Excel</td>\n",
       "      <td>2000</td>\n",
       "    </tr>\n",
       "    <tr>\n",
       "      <th>3</th>\n",
       "      <td>paulo</td>\n",
       "      <td>paulo@gmail.com</td>\n",
       "      <td>curso python</td>\n",
       "      <td>3000</td>\n",
       "    </tr>\n",
       "    <tr>\n",
       "      <th>4</th>\n",
       "      <td>tiana</td>\n",
       "      <td>tiana@gmail.com</td>\n",
       "      <td>curso python</td>\n",
       "      <td>2500</td>\n",
       "    </tr>\n",
       "    <tr>\n",
       "      <th>5</th>\n",
       "      <td>laura</td>\n",
       "      <td>laura@gmail.com</td>\n",
       "      <td>curso Excel</td>\n",
       "      <td>3000</td>\n",
       "    </tr>\n",
       "    <tr>\n",
       "      <th>6</th>\n",
       "      <td>lia</td>\n",
       "      <td>sara@gmail.com</td>\n",
       "      <td>curso Excel</td>\n",
       "      <td>1500</td>\n",
       "    </tr>\n",
       "    <tr>\n",
       "      <th>7</th>\n",
       "      <td>lorena</td>\n",
       "      <td>ana@gmail.com</td>\n",
       "      <td>curso python</td>\n",
       "      <td>1500</td>\n",
       "    </tr>\n",
       "    <tr>\n",
       "      <th>8</th>\n",
       "      <td>fany</td>\n",
       "      <td>rui@gmail.com</td>\n",
       "      <td>curso Excel</td>\n",
       "      <td>2000</td>\n",
       "    </tr>\n",
       "    <tr>\n",
       "      <th>9</th>\n",
       "      <td>teresa</td>\n",
       "      <td>paulo@gmail.com</td>\n",
       "      <td>curso python</td>\n",
       "      <td>3000</td>\n",
       "    </tr>\n",
       "    <tr>\n",
       "      <th>10</th>\n",
       "      <td>katia</td>\n",
       "      <td>tiana@gmail.com</td>\n",
       "      <td>curso python</td>\n",
       "      <td>2500</td>\n",
       "    </tr>\n",
       "    <tr>\n",
       "      <th>11</th>\n",
       "      <td>leida</td>\n",
       "      <td>laura@gmail.com</td>\n",
       "      <td>curso Excel</td>\n",
       "      <td>3000</td>\n",
       "    </tr>\n",
       "  </tbody>\n",
       "</table>\n",
       "</div>"
      ],
      "text/plain": [
       "      Nome            Email     Descrição  valor\n",
       "0     sara   sara@gmail.com   curso Excel   1500\n",
       "1      ana    ana@gmail.com  curso python   1500\n",
       "2      rui    rui@gmail.com   curso Excel   2000\n",
       "3    paulo  paulo@gmail.com  curso python   3000\n",
       "4    tiana  tiana@gmail.com  curso python   2500\n",
       "5    laura  laura@gmail.com   curso Excel   3000\n",
       "6      lia   sara@gmail.com   curso Excel   1500\n",
       "7   lorena    ana@gmail.com  curso python   1500\n",
       "8     fany    rui@gmail.com   curso Excel   2000\n",
       "9   teresa  paulo@gmail.com  curso python   3000\n",
       "10   katia  tiana@gmail.com  curso python   2500\n",
       "11   leida  laura@gmail.com   curso Excel   3000"
      ]
     },
     "metadata": {},
     "output_type": "display_data"
    }
   ],
   "source": [
    "import pandas as pd\n",
    "import xlrd\n",
    "\n",
    "tabela = pd.read_excel(\"Emitir.xlsx\", engine=\"openpyxl\")\n",
    "\n",
    "display(tabela)"
   ]
  },
  {
   "cell_type": "code",
   "execution_count": 5,
   "metadata": {
    "ExecuteTime": {
     "end_time": "2024-04-04T14:03:59.291415Z",
     "start_time": "2024-04-04T14:03:33.179914Z"
    }
   },
   "outputs": [],
   "source": [
    "for i, nome in enumerate(tabela['Nome']):\n",
    "    email = tabela.loc[i, \"Email\"]\n",
    "    descricao = tabela.loc[i, \"Descrição\"]\n",
    "    valor = tabela.loc[i, \"valor\"]\n",
    "    \n",
    "    navegador.get(\"https://docs.google.com/forms/d/e/1FAIpQLSfszo6Sz68F5c0bMq9hkeHkHxZW_eKwetP43ddDi4mOUKvg_A/viewform\")\n",
    "    #Preencher nome\n",
    "    navegador.find_element(\"xpath\",'//*[@id=\"mG61Hd\"]/div[2]/div/div[2]/div[1]/div/div/div[2]/div/div[1]/div/div[1]/input').send_keys(nome)\n",
    "\n",
    "    #Preencher email\n",
    "    navegador.find_element(\n",
    "    \"xpath\",'//*[@id=\"mG61Hd\"]/div[2]/div/div[2]/div[2]/div/div/div[2]/div/div[1]/div/div[1]/input').send_keys(email)\n",
    "\n",
    "    #Preencher descricao\n",
    "    navegador.find_element(\n",
    "        \"xpath\",'//*[@id=\"mG61Hd\"]/div[2]/div/div[2]/div[3]/div/div/div[2]/div/div[1]/div/div[1]/input').send_keys(descricao)\n",
    "\n",
    "\n",
    "    #Preencher valor\n",
    "    navegador.find_element(\n",
    "        \"xpath\",'//*[@id=\"mG61Hd\"]/div[2]/div/div[2]/div[4]/div/div/div[2]/div/div[1]/div/div[1]/input').send_keys(str(valor))\n",
    "\n",
    "\n",
    "    #Clicar no botao\n",
    "    navegador.find_element(\"xpath\",'//*[@id=\"mG61Hd\"]/div[2]/div/div[3]/div[1]/div[1]/div/span/span').click()\n",
    "\n",
    "\n"
   ]
  },
  {
   "cell_type": "code",
   "execution_count": null,
   "metadata": {
    "ExecuteTime": {
     "end_time": "2024-03-27T19:55:50.927976Z",
     "start_time": "2024-03-27T19:55:48.537118Z"
    }
   },
   "outputs": [],
   "source": []
  },
  {
   "cell_type": "code",
   "execution_count": 14,
   "metadata": {
    "ExecuteTime": {
     "end_time": "2024-03-27T20:21:00.286800Z",
     "start_time": "2024-03-27T20:20:56.406744Z"
    }
   },
   "outputs": [
    {
     "name": "stdout",
     "output_type": "stream",
     "text": [
      "Collecting openpyxl\n",
      "  Downloading openpyxl-3.1.2-py2.py3-none-any.whl.metadata (2.5 kB)\n",
      "Collecting et-xmlfile (from openpyxl)\n",
      "  Downloading et_xmlfile-1.1.0-py3-none-any.whl.metadata (1.8 kB)\n",
      "Using cached openpyxl-3.1.2-py2.py3-none-any.whl (249 kB)\n",
      "Using cached et_xmlfile-1.1.0-py3-none-any.whl (4.7 kB)\n",
      "Installing collected packages: et-xmlfile, openpyxl\n",
      "Successfully installed et-xmlfile-1.1.0 openpyxl-3.1.2\n"
     ]
    }
   ],
   "source": []
  },
  {
   "cell_type": "code",
   "execution_count": null,
   "metadata": {},
   "outputs": [],
   "source": []
  }
 ],
 "metadata": {
  "kernelspec": {
   "display_name": "Python 3",
   "language": "python",
   "name": "python3"
  },
  "language_info": {
   "codemirror_mode": {
    "name": "ipython",
    "version": 3
   },
   "file_extension": ".py",
   "mimetype": "text/x-python",
   "name": "python",
   "nbconvert_exporter": "python",
   "pygments_lexer": "ipython3",
   "version": "3.8.5"
  }
 },
 "nbformat": 4,
 "nbformat_minor": 2
}
