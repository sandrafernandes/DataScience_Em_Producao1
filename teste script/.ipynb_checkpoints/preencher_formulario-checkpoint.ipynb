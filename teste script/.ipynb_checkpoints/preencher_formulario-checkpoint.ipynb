{
 "cells": [
  {
   "cell_type": "code",
   "execution_count": 35,
   "metadata": {
    "ExecuteTime": {
     "end_time": "2024-03-27T21:36:02.703606Z",
     "start_time": "2024-03-27T21:35:52.398804Z"
    }
   },
   "outputs": [],
   "source": [
    "from selenium import webdriver\n",
    "\n",
    "navegador = webdriver.Chrome()\n",
    "navegador.get(\"https://docs.google.com/forms/d/e/1FAIpQLSfszo6Sz68F5c0bMq9hkeHkHxZW_eKwetP43ddDi4mOUKvg_A/viewform\")\n"
   ]
  },
  {
   "cell_type": "code",
   "execution_count": 28,
   "metadata": {
    "ExecuteTime": {
     "end_time": "2024-03-27T21:30:07.285115Z",
     "start_time": "2024-03-27T21:30:05.643166Z"
    },
    "scrolled": true
   },
   "outputs": [],
   "source": [
    "#Preencher nome\n",
    "navegador.find_element(\"xpath\",'//*[@id=\"mG61Hd\"]/div[2]/div/div[2]/div[1]/div/div/div[2]/div/div[1]/div/div[1]/input').send_keys(\"sandra\")\n",
    "\n",
    "#Preencher email\n",
    "navegador.find_element(\n",
    "    \"xpath\",'//*[@id=\"mG61Hd\"]/div[2]/div/div[2]/div[2]/div/div/div[2]/div/div[1]/div/div[1]/input').send_keys(\"sandra@gmail.com\")\n",
    "\n",
    "#Preencher descricao\n",
    "navegador.find_element(\n",
    "    \"xpath\",'//*[@id=\"mG61Hd\"]/div[2]/div/div[2]/div[3]/div/div/div[2]/div/div[1]/div/div[1]/input').send_keys(\"jijoi\")\n",
    "\n",
    "\n",
    "#Preencher valor\n",
    "navegador.find_element(\n",
    "    \"xpath\",'//*[@id=\"mG61Hd\"]/div[2]/div/div[2]/div[4]/div/div/div[2]/div/div[1]/div/div[1]/input').send_keys(\"500\")\n",
    "\n",
    "\n",
    "#Clicar no botao\n",
    "navegador.find_element(\"xpath\",'//*[@id=\"mG61Hd\"]/div[2]/div/div[3]/div[1]/div[1]/div/span/span').click()\n",
    "\n",
    "\n"
   ]
  },
  {
   "cell_type": "code",
   "execution_count": 29,
   "metadata": {
    "ExecuteTime": {
     "end_time": "2024-03-27T21:30:15.365541Z",
     "start_time": "2024-03-27T21:30:10.002366Z"
    }
   },
   "outputs": [
    {
     "name": "stdout",
     "output_type": "stream",
     "text": [
      "Requirement already satisfied: xlrd in /Users/sandrafernandes/.pyenv/versions/3.8.5/envs/DataScienceEmProducao1/lib/python3.8/site-packages (2.0.1)\n",
      "Requirement already satisfied: xlrd in /Users/sandrafernandes/.pyenv/versions/3.8.5/envs/DataScienceEmProducao1/lib/python3.8/site-packages (2.0.1)\n",
      "Requirement already satisfied: openpyxl in /Users/sandrafernandes/.pyenv/versions/3.8.5/envs/DataScienceEmProducao1/lib/python3.8/site-packages (3.1.2)\n",
      "Requirement already satisfied: et-xmlfile in /Users/sandrafernandes/.pyenv/versions/3.8.5/envs/DataScienceEmProducao1/lib/python3.8/site-packages (from openpyxl) (1.1.0)\n"
     ]
    }
   ],
   "source": [
    "!pip install xlrd\n",
    "!pip install --upgrade xlrd\n",
    "!pip install openpyxl"
   ]
  },
  {
   "cell_type": "code",
   "execution_count": 30,
   "metadata": {
    "ExecuteTime": {
     "end_time": "2024-03-27T21:30:26.654913Z",
     "start_time": "2024-03-27T21:30:26.619798Z"
    }
   },
   "outputs": [
    {
     "data": {
      "text/html": [
       "<div>\n",
       "<style scoped>\n",
       "    .dataframe tbody tr th:only-of-type {\n",
       "        vertical-align: middle;\n",
       "    }\n",
       "\n",
       "    .dataframe tbody tr th {\n",
       "        vertical-align: top;\n",
       "    }\n",
       "\n",
       "    .dataframe thead th {\n",
       "        text-align: right;\n",
       "    }\n",
       "</style>\n",
       "<table border=\"1\" class=\"dataframe\">\n",
       "  <thead>\n",
       "    <tr style=\"text-align: right;\">\n",
       "      <th></th>\n",
       "      <th>Nome</th>\n",
       "      <th>Email</th>\n",
       "      <th>Descrição</th>\n",
       "      <th>valor</th>\n",
       "    </tr>\n",
       "  </thead>\n",
       "  <tbody>\n",
       "    <tr>\n",
       "      <th>0</th>\n",
       "      <td>sara</td>\n",
       "      <td>sara@gmail.com</td>\n",
       "      <td>curso Excel</td>\n",
       "      <td>1500</td>\n",
       "    </tr>\n",
       "    <tr>\n",
       "      <th>1</th>\n",
       "      <td>ana</td>\n",
       "      <td>ana@gmail.com</td>\n",
       "      <td>curso python</td>\n",
       "      <td>1500</td>\n",
       "    </tr>\n",
       "    <tr>\n",
       "      <th>2</th>\n",
       "      <td>rui</td>\n",
       "      <td>rui@gmail.com</td>\n",
       "      <td>curso Excel</td>\n",
       "      <td>2000</td>\n",
       "    </tr>\n",
       "    <tr>\n",
       "      <th>3</th>\n",
       "      <td>paulo</td>\n",
       "      <td>paulo@gmail.com</td>\n",
       "      <td>curso python</td>\n",
       "      <td>3000</td>\n",
       "    </tr>\n",
       "    <tr>\n",
       "      <th>4</th>\n",
       "      <td>tiana</td>\n",
       "      <td>tiana@gmail.com</td>\n",
       "      <td>curso python</td>\n",
       "      <td>2500</td>\n",
       "    </tr>\n",
       "    <tr>\n",
       "      <th>5</th>\n",
       "      <td>laura</td>\n",
       "      <td>laura@gmail.com</td>\n",
       "      <td>curso Excel</td>\n",
       "      <td>3000</td>\n",
       "    </tr>\n",
       "    <tr>\n",
       "      <th>6</th>\n",
       "      <td>lia</td>\n",
       "      <td>sara@gmail.com</td>\n",
       "      <td>curso Excel</td>\n",
       "      <td>1500</td>\n",
       "    </tr>\n",
       "    <tr>\n",
       "      <th>7</th>\n",
       "      <td>lorena</td>\n",
       "      <td>ana@gmail.com</td>\n",
       "      <td>curso python</td>\n",
       "      <td>1500</td>\n",
       "    </tr>\n",
       "    <tr>\n",
       "      <th>8</th>\n",
       "      <td>fany</td>\n",
       "      <td>rui@gmail.com</td>\n",
       "      <td>curso Excel</td>\n",
       "      <td>2000</td>\n",
       "    </tr>\n",
       "    <tr>\n",
       "      <th>9</th>\n",
       "      <td>teresa</td>\n",
       "      <td>paulo@gmail.com</td>\n",
       "      <td>curso python</td>\n",
       "      <td>3000</td>\n",
       "    </tr>\n",
       "    <tr>\n",
       "      <th>10</th>\n",
       "      <td>katia</td>\n",
       "      <td>tiana@gmail.com</td>\n",
       "      <td>curso python</td>\n",
       "      <td>2500</td>\n",
       "    </tr>\n",
       "    <tr>\n",
       "      <th>11</th>\n",
       "      <td>leida</td>\n",
       "      <td>laura@gmail.com</td>\n",
       "      <td>curso Excel</td>\n",
       "      <td>3000</td>\n",
       "    </tr>\n",
       "  </tbody>\n",
       "</table>\n",
       "</div>"
      ],
      "text/plain": [
       "      Nome            Email     Descrição  valor\n",
       "0     sara   sara@gmail.com   curso Excel   1500\n",
       "1      ana    ana@gmail.com  curso python   1500\n",
       "2      rui    rui@gmail.com   curso Excel   2000\n",
       "3    paulo  paulo@gmail.com  curso python   3000\n",
       "4    tiana  tiana@gmail.com  curso python   2500\n",
       "5    laura  laura@gmail.com   curso Excel   3000\n",
       "6      lia   sara@gmail.com   curso Excel   1500\n",
       "7   lorena    ana@gmail.com  curso python   1500\n",
       "8     fany    rui@gmail.com   curso Excel   2000\n",
       "9   teresa  paulo@gmail.com  curso python   3000\n",
       "10   katia  tiana@gmail.com  curso python   2500\n",
       "11   leida  laura@gmail.com   curso Excel   3000"
      ]
     },
     "metadata": {},
     "output_type": "display_data"
    }
   ],
   "source": [
    "import pandas as pd\n",
    "import xlrd\n",
    "\n",
    "tabela = pd.read_excel(\"Emitir.xlsx\", engine=\"openpyxl\")\n",
    "\n",
    "display(tabela)"
   ]
  },
  {
   "cell_type": "code",
   "execution_count": 42,
   "metadata": {
    "ExecuteTime": {
     "end_time": "2024-03-27T22:11:25.478800Z",
     "start_time": "2024-03-27T22:10:57.323758Z"
    }
   },
   "outputs": [],
   "source": [
    "for i, nome in enumerate(tabela['Nome']):\n",
    "    email = tabela.loc[i, \"Email\"]\n",
    "    descricao = tabela.loc[i, \"Descrição\"]\n",
    "    valor = tabela.loc[i, \"valor\"]\n",
    "    \n",
    "    navegador.get(\"https://docs.google.com/forms/d/e/1FAIpQLSfszo6Sz68F5c0bMq9hkeHkHxZW_eKwetP43ddDi4mOUKvg_A/viewform\")\n",
    "    #Preencher nome\n",
    "    navegador.find_element(\"xpath\",'//*[@id=\"mG61Hd\"]/div[2]/div/div[2]/div[1]/div/div/div[2]/div/div[1]/div/div[1]/input').send_keys(nome)\n",
    "\n",
    "    #Preencher email\n",
    "    navegador.find_element(\n",
    "    \"xpath\",'//*[@id=\"mG61Hd\"]/div[2]/div/div[2]/div[2]/div/div/div[2]/div/div[1]/div/div[1]/input').send_keys(email)\n",
    "\n",
    "    #Preencher descricao\n",
    "    navegador.find_element(\n",
    "        \"xpath\",'//*[@id=\"mG61Hd\"]/div[2]/div/div[2]/div[3]/div/div/div[2]/div/div[1]/div/div[1]/input').send_keys(descricao)\n",
    "\n",
    "\n",
    "    #Preencher valor\n",
    "    navegador.find_element(\n",
    "        \"xpath\",'//*[@id=\"mG61Hd\"]/div[2]/div/div[2]/div[4]/div/div/div[2]/div/div[1]/div/div[1]/input').send_keys(str(valor))\n",
    "\n",
    "\n",
    "    #Clicar no botao\n",
    "    navegador.find_element(\"xpath\",'//*[@id=\"mG61Hd\"]/div[2]/div/div[3]/div[1]/div[1]/div/span/span').click()\n",
    "\n",
    "\n"
   ]
  },
  {
   "cell_type": "code",
   "execution_count": null,
   "metadata": {
    "ExecuteTime": {
     "end_time": "2024-03-27T19:55:50.927976Z",
     "start_time": "2024-03-27T19:55:48.537118Z"
    }
   },
   "outputs": [],
   "source": []
  },
  {
   "cell_type": "code",
   "execution_count": 14,
   "metadata": {
    "ExecuteTime": {
     "end_time": "2024-03-27T20:21:00.286800Z",
     "start_time": "2024-03-27T20:20:56.406744Z"
    }
   },
   "outputs": [
    {
     "name": "stdout",
     "output_type": "stream",
     "text": [
      "Collecting openpyxl\n",
      "  Downloading openpyxl-3.1.2-py2.py3-none-any.whl.metadata (2.5 kB)\n",
      "Collecting et-xmlfile (from openpyxl)\n",
      "  Downloading et_xmlfile-1.1.0-py3-none-any.whl.metadata (1.8 kB)\n",
      "Using cached openpyxl-3.1.2-py2.py3-none-any.whl (249 kB)\n",
      "Using cached et_xmlfile-1.1.0-py3-none-any.whl (4.7 kB)\n",
      "Installing collected packages: et-xmlfile, openpyxl\n",
      "Successfully installed et-xmlfile-1.1.0 openpyxl-3.1.2\n"
     ]
    }
   ],
   "source": []
  },
  {
   "cell_type": "code",
   "execution_count": null,
   "metadata": {},
   "outputs": [],
   "source": []
  }
 ],
 "metadata": {
  "kernelspec": {
   "display_name": "Python 3",
   "language": "python",
   "name": "python3"
  },
  "language_info": {
   "codemirror_mode": {
    "name": "ipython",
    "version": 3
   },
   "file_extension": ".py",
   "mimetype": "text/x-python",
   "name": "python",
   "nbconvert_exporter": "python",
   "pygments_lexer": "ipython3",
   "version": "3.8.5"
  }
 },
 "nbformat": 4,
 "nbformat_minor": 2
}
