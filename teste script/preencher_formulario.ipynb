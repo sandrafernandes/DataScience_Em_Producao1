{
 "cells": [
  {
   "cell_type": "code",
   "execution_count": 1,
   "metadata": {
    "ExecuteTime": {
     "end_time": "2024-07-15T12:33:23.334631Z",
     "start_time": "2024-07-15T12:33:16.984920Z"
    }
   },
   "outputs": [],
   "source": [
    "from selenium import webdriver\n",
    "\n",
    "navegador = webdriver.Chrome()\n",
    "navegador.get(\"https://docs.google.com/forms/d/e/1FAIpQLSfszo6Sz68F5c0bMq9hkeHkHxZW_eKwetP43ddDi4mOUKvg_A/viewform\")\n"
   ]
  },
  {
   "cell_type": "code",
   "execution_count": 2,
   "metadata": {
    "ExecuteTime": {
     "end_time": "2024-07-15T12:33:29.886469Z",
     "start_time": "2024-07-15T12:33:28.474268Z"
    },
    "scrolled": true
   },
   "outputs": [],
   "source": [
    "#Preencher nome\n",
    "navegador.find_element(\"xpath\",'//*[@id=\"mG61Hd\"]/div[2]/div/div[2]/div[1]/div/div/div[2]/div/div[1]/div/div[1]/input').send_keys(\"sandra\")\n",
    "\n",
    "#Preencher email\n",
    "navegador.find_element(\n",
    "    \"xpath\",'//*[@id=\"mG61Hd\"]/div[2]/div/div[2]/div[2]/div/div/div[2]/div/div[1]/div/div[1]/input').send_keys(\"sandra@gmail.com\")\n",
    "\n",
    "#Preencher descricao\n",
    "navegador.find_element(\n",
    "    \"xpath\",'//*[@id=\"mG61Hd\"]/div[2]/div/div[2]/div[3]/div/div/div[2]/div/div[1]/div/div[1]/input').send_keys(\"jijoi\")\n",
    "\n",
    "\n",
    "#Preencher valor\n",
    "navegador.find_element(\n",
    "    \"xpath\",'//*[@id=\"mG61Hd\"]/div[2]/div/div[2]/div[4]/div/div/div[2]/div/div[1]/div/div[1]/input').send_keys(\"500\")\n",
    "\n",
    "\n",
    "#Clicar no botao\n",
    "navegador.find_element(\"xpath\",'//*[@id=\"mG61Hd\"]/div[2]/div/div[3]/div[1]/div[1]/div/span/span').click()\n",
    "\n",
    "\n"
   ]
  },
  {
   "cell_type": "code",
   "execution_count": 5,
   "metadata": {
    "ExecuteTime": {
     "end_time": "2024-07-15T12:33:55.541601Z",
     "start_time": "2024-07-15T12:33:50.674358Z"
    }
   },
   "outputs": [
    {
     "name": "stdout",
     "output_type": "stream",
     "text": [
      "Requirement already satisfied: xlrd in /Users/sandrafernandes/.pyenv/versions/3.8.5/envs/DataScienceEmProducao1/lib/python3.8/site-packages (2.0.1)\n",
      "\n",
      "\u001b[1m[\u001b[0m\u001b[34;49mnotice\u001b[0m\u001b[1;39;49m]\u001b[0m\u001b[39;49m A new release of pip is available: \u001b[0m\u001b[31;49m24.0\u001b[0m\u001b[39;49m -> \u001b[0m\u001b[32;49m24.1.2\u001b[0m\n",
      "\u001b[1m[\u001b[0m\u001b[34;49mnotice\u001b[0m\u001b[1;39;49m]\u001b[0m\u001b[39;49m To update, run: \u001b[0m\u001b[32;49mpython3.8 -m pip install --upgrade pip\u001b[0m\n",
      "Requirement already satisfied: xlrd in /Users/sandrafernandes/.pyenv/versions/3.8.5/envs/DataScienceEmProducao1/lib/python3.8/site-packages (2.0.1)\n",
      "\n",
      "\u001b[1m[\u001b[0m\u001b[34;49mnotice\u001b[0m\u001b[1;39;49m]\u001b[0m\u001b[39;49m A new release of pip is available: \u001b[0m\u001b[31;49m24.0\u001b[0m\u001b[39;49m -> \u001b[0m\u001b[32;49m24.1.2\u001b[0m\n",
      "\u001b[1m[\u001b[0m\u001b[34;49mnotice\u001b[0m\u001b[1;39;49m]\u001b[0m\u001b[39;49m To update, run: \u001b[0m\u001b[32;49mpython3.8 -m pip install --upgrade pip\u001b[0m\n",
      "Requirement already satisfied: openpyxl in /Users/sandrafernandes/.pyenv/versions/3.8.5/envs/DataScienceEmProducao1/lib/python3.8/site-packages (3.1.2)\n",
      "Requirement already satisfied: et-xmlfile in /Users/sandrafernandes/.pyenv/versions/3.8.5/envs/DataScienceEmProducao1/lib/python3.8/site-packages (from openpyxl) (1.1.0)\n",
      "\n",
      "\u001b[1m[\u001b[0m\u001b[34;49mnotice\u001b[0m\u001b[1;39;49m]\u001b[0m\u001b[39;49m A new release of pip is available: \u001b[0m\u001b[31;49m24.0\u001b[0m\u001b[39;49m -> \u001b[0m\u001b[32;49m24.1.2\u001b[0m\n",
      "\u001b[1m[\u001b[0m\u001b[34;49mnotice\u001b[0m\u001b[1;39;49m]\u001b[0m\u001b[39;49m To update, run: \u001b[0m\u001b[32;49mpython3.8 -m pip install --upgrade pip\u001b[0m\n"
     ]
    }
   ],
   "source": [
    "!pip install xlrd\n",
    "!pip install --upgrade xlrd\n",
    "!pip install openpyxl"
   ]
  },
  {
   "cell_type": "code",
   "execution_count": 6,
   "metadata": {
    "ExecuteTime": {
     "end_time": "2024-07-15T12:33:57.076650Z",
     "start_time": "2024-07-15T12:33:55.546456Z"
    }
   },
   "outputs": [
    {
     "data": {
      "text/html": [
       "<div>\n",
       "<style scoped>\n",
       "    .dataframe tbody tr th:only-of-type {\n",
       "        vertical-align: middle;\n",
       "    }\n",
       "\n",
       "    .dataframe tbody tr th {\n",
       "        vertical-align: top;\n",
       "    }\n",
       "\n",
       "    .dataframe thead th {\n",
       "        text-align: right;\n",
       "    }\n",
       "</style>\n",
       "<table border=\"1\" class=\"dataframe\">\n",
       "  <thead>\n",
       "    <tr style=\"text-align: right;\">\n",
       "      <th></th>\n",
       "      <th>Nome</th>\n",
       "      <th>Email</th>\n",
       "      <th>Descrição</th>\n",
       "      <th>valor</th>\n",
       "    </tr>\n",
       "  </thead>\n",
       "  <tbody>\n",
       "    <tr>\n",
       "      <th>0</th>\n",
       "      <td>sara</td>\n",
       "      <td>sara@gmail.com</td>\n",
       "      <td>curso Excel</td>\n",
       "      <td>1500</td>\n",
       "    </tr>\n",
       "    <tr>\n",
       "      <th>1</th>\n",
       "      <td>ana</td>\n",
       "      <td>ana@gmail.com</td>\n",
       "      <td>curso python</td>\n",
       "      <td>1500</td>\n",
       "    </tr>\n",
       "    <tr>\n",
       "      <th>2</th>\n",
       "      <td>rui</td>\n",
       "      <td>rui@gmail.com</td>\n",
       "      <td>curso Excel</td>\n",
       "      <td>2000</td>\n",
       "    </tr>\n",
       "    <tr>\n",
       "      <th>3</th>\n",
       "      <td>paulo</td>\n",
       "      <td>paulo@gmail.com</td>\n",
       "      <td>curso python</td>\n",
       "      <td>3000</td>\n",
       "    </tr>\n",
       "    <tr>\n",
       "      <th>4</th>\n",
       "      <td>tiana</td>\n",
       "      <td>tiana@gmail.com</td>\n",
       "      <td>curso python</td>\n",
       "      <td>2500</td>\n",
       "    </tr>\n",
       "    <tr>\n",
       "      <th>5</th>\n",
       "      <td>laura</td>\n",
       "      <td>laura@gmail.com</td>\n",
       "      <td>curso Excel</td>\n",
       "      <td>3000</td>\n",
       "    </tr>\n",
       "    <tr>\n",
       "      <th>6</th>\n",
       "      <td>lia</td>\n",
       "      <td>sara@gmail.com</td>\n",
       "      <td>curso Excel</td>\n",
       "      <td>1500</td>\n",
       "    </tr>\n",
       "    <tr>\n",
       "      <th>7</th>\n",
       "      <td>lorena</td>\n",
       "      <td>ana@gmail.com</td>\n",
       "      <td>curso python</td>\n",
       "      <td>1500</td>\n",
       "    </tr>\n",
       "    <tr>\n",
       "      <th>8</th>\n",
       "      <td>fany</td>\n",
       "      <td>rui@gmail.com</td>\n",
       "      <td>curso Excel</td>\n",
       "      <td>2000</td>\n",
       "    </tr>\n",
       "    <tr>\n",
       "      <th>9</th>\n",
       "      <td>teresa</td>\n",
       "      <td>paulo@gmail.com</td>\n",
       "      <td>curso python</td>\n",
       "      <td>3000</td>\n",
       "    </tr>\n",
       "    <tr>\n",
       "      <th>10</th>\n",
       "      <td>katia</td>\n",
       "      <td>tiana@gmail.com</td>\n",
       "      <td>curso python</td>\n",
       "      <td>2500</td>\n",
       "    </tr>\n",
       "    <tr>\n",
       "      <th>11</th>\n",
       "      <td>leida</td>\n",
       "      <td>laura@gmail.com</td>\n",
       "      <td>curso Excel</td>\n",
       "      <td>3000</td>\n",
       "    </tr>\n",
       "  </tbody>\n",
       "</table>\n",
       "</div>"
      ],
      "text/plain": [
       "      Nome            Email     Descrição  valor\n",
       "0     sara   sara@gmail.com   curso Excel   1500\n",
       "1      ana    ana@gmail.com  curso python   1500\n",
       "2      rui    rui@gmail.com   curso Excel   2000\n",
       "3    paulo  paulo@gmail.com  curso python   3000\n",
       "4    tiana  tiana@gmail.com  curso python   2500\n",
       "5    laura  laura@gmail.com   curso Excel   3000\n",
       "6      lia   sara@gmail.com   curso Excel   1500\n",
       "7   lorena    ana@gmail.com  curso python   1500\n",
       "8     fany    rui@gmail.com   curso Excel   2000\n",
       "9   teresa  paulo@gmail.com  curso python   3000\n",
       "10   katia  tiana@gmail.com  curso python   2500\n",
       "11   leida  laura@gmail.com   curso Excel   3000"
      ]
     },
     "metadata": {},
     "output_type": "display_data"
    }
   ],
   "source": [
    "import pandas as pd\n",
    "import xlrd\n",
    "\n",
    "tabela = pd.read_excel(\"Emitir.xlsx\", engine=\"openpyxl\")\n",
    "\n",
    "display(tabela)"
   ]
  },
  {
   "cell_type": "code",
   "execution_count": 7,
   "metadata": {
    "ExecuteTime": {
     "end_time": "2024-07-15T12:34:09.460123Z",
     "start_time": "2024-07-15T12:34:00.538782Z"
    }
   },
   "outputs": [
    {
     "ename": "AttributeError",
     "evalue": "'NoneType' object has no attribute 'send_keys'",
     "output_type": "error",
     "traceback": [
      "\u001b[0;31m---------------------------------------------------------------------------\u001b[0m",
      "\u001b[0;31mAttributeError\u001b[0m                            Traceback (most recent call last)",
      "\u001b[0;32m<ipython-input-7-3ef820891c35>\u001b[0m in \u001b[0;36m<module>\u001b[0;34m\u001b[0m\n\u001b[1;32m     13\u001b[0m \u001b[0;34m\u001b[0m\u001b[0m\n\u001b[1;32m     14\u001b[0m     \u001b[0;31m#Preencher descricao\u001b[0m\u001b[0;34m\u001b[0m\u001b[0;34m\u001b[0m\u001b[0;34m\u001b[0m\u001b[0m\n\u001b[0;32m---> 15\u001b[0;31m     navegador.find_element(\n\u001b[0m\u001b[1;32m     16\u001b[0m         \"xpath\",'//*[@id=\"mG61Hd\"]/div[2]/div/div[2]/div[3]/div/div/div[2]/div/div[1]/div/div[1]/input').send_keys(descricao)\n\u001b[1;32m     17\u001b[0m \u001b[0;34m\u001b[0m\u001b[0m\n",
      "\u001b[0;31mAttributeError\u001b[0m: 'NoneType' object has no attribute 'send_keys'"
     ]
    }
   ],
   "source": [
    "for i, nome in enumerate(tabela['Nome']):\n",
    "    email = tabela.loc[i, \"Email\"]\n",
    "    descricao = tabela.loc[i, \"Descrição\"]\n",
    "    valor = tabela.loc[i, \"valor\"]\n",
    "    \n",
    "    navegador.get(\"https://docs.google.com/forms/d/e/1FAIpQLSfszo6Sz68F5c0bMq9hkeHkHxZW_eKwetP43ddDi4mOUKvg_A/viewform\")\n",
    "    #Preencher nome\n",
    "    navegador.find_element(\"xpath\",'//*[@id=\"mG61Hd\"]/div[2]/div/div[2]/div[1]/div/div/div[2]/div/div[1]/div/div[1]/input').send_keys(nome)\n",
    "\n",
    "    #Preencher email\n",
    "    navegador.find_element(\n",
    "    \"xpath\",'//*[@id=\"mG61Hd\"]/div[2]/div/div[2]/div[2]/div/div/div[2]/div/div[1]/div/div[1]/input').send_keys(email)\n",
    "\n",
    "    #Preencher descricao\n",
    "    navegador.find_element(\n",
    "        \"xpath\",'//*[@id=\"mG61Hd\"]/div[2]/div/div[2]/div[3]/div/div/div[2]/div/div[1]/div/div[1]/input').send_keys(descricao)\n",
    "\n",
    "\n",
    "    #Preencher valor\n",
    "    navegador.find_element(\n",
    "        \"xpath\",'//*[@id=\"mG61Hd\"]/div[2]/div/div[2]/div[4]/div/div/div[2]/div/div[1]/div/div[1]/input').send_keys(str(valor))\n",
    "\n",
    "\n",
    "    #Clicar no botao\n",
    "    navegador.find_element(\"xpath\",'//*[@id=\"mG61Hd\"]/div[2]/div/div[3]/div[1]/div[1]/div/span/span').click()\n",
    "\n",
    "\n"
   ]
  },
  {
   "cell_type": "code",
   "execution_count": null,
   "metadata": {
    "ExecuteTime": {
     "end_time": "2024-03-27T19:55:50.927976Z",
     "start_time": "2024-03-27T19:55:48.537118Z"
    }
   },
   "outputs": [],
   "source": []
  },
  {
   "cell_type": "code",
   "execution_count": null,
   "metadata": {
    "ExecuteTime": {
     "end_time": "2024-03-27T20:21:00.286800Z",
     "start_time": "2024-03-27T20:20:56.406744Z"
    }
   },
   "outputs": [],
   "source": []
  },
  {
   "cell_type": "code",
   "execution_count": null,
   "metadata": {},
   "outputs": [],
   "source": []
  },
  {
   "cell_type": "code",
   "execution_count": null,
   "metadata": {},
   "outputs": [],
   "source": []
  },
  {
   "cell_type": "code",
   "execution_count": null,
   "metadata": {},
   "outputs": [],
   "source": []
  }
 ],
 "metadata": {
  "kernelspec": {
   "display_name": "Python 3",
   "language": "python",
   "name": "python3"
  },
  "language_info": {
   "codemirror_mode": {
    "name": "ipython",
    "version": 3
   },
   "file_extension": ".py",
   "mimetype": "text/x-python",
   "name": "python",
   "nbconvert_exporter": "python",
   "pygments_lexer": "ipython3",
   "version": "3.8.5"
  }
 },
 "nbformat": 4,
 "nbformat_minor": 2
}
